{
 "cells": [
  {
   "cell_type": "code",
   "execution_count": 64,
   "id": "d0438145",
   "metadata": {},
   "outputs": [],
   "source": [
    "import pandas as pd\n",
    "import numpy as np\n",
    "import seaborn as sns\n",
    "import matplotlib.pyplot as plt\n",
    "from ipywidgets import interact\n"
   ]
  },
  {
   "cell_type": "code",
   "execution_count": 65,
   "id": "0fe35260",
   "metadata": {},
   "outputs": [],
   "source": [
    "df=pd.read_csv(\"data.csv\")"
   ]
  },
  {
   "cell_type": "code",
   "execution_count": 66,
   "id": "51cd9d83",
   "metadata": {},
   "outputs": [
    {
     "data": {
      "text/html": [
       "<div>\n",
       "<style scoped>\n",
       "    .dataframe tbody tr th:only-of-type {\n",
       "        vertical-align: middle;\n",
       "    }\n",
       "\n",
       "    .dataframe tbody tr th {\n",
       "        vertical-align: top;\n",
       "    }\n",
       "\n",
       "    .dataframe thead th {\n",
       "        text-align: right;\n",
       "    }\n",
       "</style>\n",
       "<table border=\"1\" class=\"dataframe\">\n",
       "  <thead>\n",
       "    <tr style=\"text-align: right;\">\n",
       "      <th></th>\n",
       "      <th>N</th>\n",
       "      <th>P</th>\n",
       "      <th>K</th>\n",
       "      <th>temperature</th>\n",
       "      <th>humidity</th>\n",
       "      <th>ph</th>\n",
       "      <th>rainfall</th>\n",
       "      <th>label</th>\n",
       "    </tr>\n",
       "  </thead>\n",
       "  <tbody>\n",
       "    <tr>\n",
       "      <th>0</th>\n",
       "      <td>90</td>\n",
       "      <td>42</td>\n",
       "      <td>43</td>\n",
       "      <td>20.879744</td>\n",
       "      <td>82.002744</td>\n",
       "      <td>6.502985</td>\n",
       "      <td>202.935536</td>\n",
       "      <td>rice</td>\n",
       "    </tr>\n",
       "    <tr>\n",
       "      <th>1</th>\n",
       "      <td>85</td>\n",
       "      <td>58</td>\n",
       "      <td>41</td>\n",
       "      <td>21.770462</td>\n",
       "      <td>80.319644</td>\n",
       "      <td>7.038096</td>\n",
       "      <td>226.655537</td>\n",
       "      <td>rice</td>\n",
       "    </tr>\n",
       "    <tr>\n",
       "      <th>2</th>\n",
       "      <td>60</td>\n",
       "      <td>55</td>\n",
       "      <td>44</td>\n",
       "      <td>23.004459</td>\n",
       "      <td>82.320763</td>\n",
       "      <td>7.840207</td>\n",
       "      <td>263.964248</td>\n",
       "      <td>rice</td>\n",
       "    </tr>\n",
       "    <tr>\n",
       "      <th>3</th>\n",
       "      <td>74</td>\n",
       "      <td>35</td>\n",
       "      <td>40</td>\n",
       "      <td>26.491096</td>\n",
       "      <td>80.158363</td>\n",
       "      <td>6.980401</td>\n",
       "      <td>242.864034</td>\n",
       "      <td>rice</td>\n",
       "    </tr>\n",
       "    <tr>\n",
       "      <th>4</th>\n",
       "      <td>78</td>\n",
       "      <td>42</td>\n",
       "      <td>42</td>\n",
       "      <td>20.130175</td>\n",
       "      <td>81.604873</td>\n",
       "      <td>7.628473</td>\n",
       "      <td>262.717340</td>\n",
       "      <td>rice</td>\n",
       "    </tr>\n",
       "    <tr>\n",
       "      <th>...</th>\n",
       "      <td>...</td>\n",
       "      <td>...</td>\n",
       "      <td>...</td>\n",
       "      <td>...</td>\n",
       "      <td>...</td>\n",
       "      <td>...</td>\n",
       "      <td>...</td>\n",
       "      <td>...</td>\n",
       "    </tr>\n",
       "    <tr>\n",
       "      <th>1495</th>\n",
       "      <td>96</td>\n",
       "      <td>13</td>\n",
       "      <td>55</td>\n",
       "      <td>29.527531</td>\n",
       "      <td>94.574594</td>\n",
       "      <td>6.700338</td>\n",
       "      <td>21.135457</td>\n",
       "      <td>muskmelon</td>\n",
       "    </tr>\n",
       "    <tr>\n",
       "      <th>1496</th>\n",
       "      <td>82</td>\n",
       "      <td>26</td>\n",
       "      <td>47</td>\n",
       "      <td>28.504164</td>\n",
       "      <td>93.468065</td>\n",
       "      <td>6.565313</td>\n",
       "      <td>24.200072</td>\n",
       "      <td>muskmelon</td>\n",
       "    </tr>\n",
       "    <tr>\n",
       "      <th>1497</th>\n",
       "      <td>106</td>\n",
       "      <td>21</td>\n",
       "      <td>52</td>\n",
       "      <td>28.895786</td>\n",
       "      <td>94.789930</td>\n",
       "      <td>6.286515</td>\n",
       "      <td>23.036250</td>\n",
       "      <td>muskmelon</td>\n",
       "    </tr>\n",
       "    <tr>\n",
       "      <th>1498</th>\n",
       "      <td>90</td>\n",
       "      <td>15</td>\n",
       "      <td>52</td>\n",
       "      <td>27.049275</td>\n",
       "      <td>91.382173</td>\n",
       "      <td>6.448062</td>\n",
       "      <td>23.657475</td>\n",
       "      <td>muskmelon</td>\n",
       "    </tr>\n",
       "    <tr>\n",
       "      <th>1499</th>\n",
       "      <td>106</td>\n",
       "      <td>16</td>\n",
       "      <td>54</td>\n",
       "      <td>28.960179</td>\n",
       "      <td>91.695322</td>\n",
       "      <td>6.585873</td>\n",
       "      <td>24.745820</td>\n",
       "      <td>muskmelon</td>\n",
       "    </tr>\n",
       "  </tbody>\n",
       "</table>\n",
       "<p>1500 rows × 8 columns</p>\n",
       "</div>"
      ],
      "text/plain": [
       "        N   P   K  temperature   humidity        ph    rainfall      label\n",
       "0      90  42  43    20.879744  82.002744  6.502985  202.935536       rice\n",
       "1      85  58  41    21.770462  80.319644  7.038096  226.655537       rice\n",
       "2      60  55  44    23.004459  82.320763  7.840207  263.964248       rice\n",
       "3      74  35  40    26.491096  80.158363  6.980401  242.864034       rice\n",
       "4      78  42  42    20.130175  81.604873  7.628473  262.717340       rice\n",
       "...   ...  ..  ..          ...        ...       ...         ...        ...\n",
       "1495   96  13  55    29.527531  94.574594  6.700338   21.135457  muskmelon\n",
       "1496   82  26  47    28.504164  93.468065  6.565313   24.200072  muskmelon\n",
       "1497  106  21  52    28.895786  94.789930  6.286515   23.036250  muskmelon\n",
       "1498   90  15  52    27.049275  91.382173  6.448062   23.657475  muskmelon\n",
       "1499  106  16  54    28.960179  91.695322  6.585873   24.745820  muskmelon\n",
       "\n",
       "[1500 rows x 8 columns]"
      ]
     },
     "execution_count": 66,
     "metadata": {},
     "output_type": "execute_result"
    }
   ],
   "source": [
    "df.head(1500)"
   ]
  },
  {
   "cell_type": "code",
   "execution_count": 67,
   "id": "d0bc66a7",
   "metadata": {},
   "outputs": [
    {
     "data": {
      "text/plain": [
       "(2200, 8)"
      ]
     },
     "execution_count": 67,
     "metadata": {},
     "output_type": "execute_result"
    }
   ],
   "source": [
    "df.shape"
   ]
  },
  {
   "cell_type": "code",
   "execution_count": 68,
   "id": "dfbd4eda",
   "metadata": {},
   "outputs": [
    {
     "data": {
      "text/plain": [
       "N              0\n",
       "P              0\n",
       "K              0\n",
       "temperature    0\n",
       "humidity       0\n",
       "ph             0\n",
       "rainfall       0\n",
       "label          0\n",
       "dtype: int64"
      ]
     },
     "execution_count": 68,
     "metadata": {},
     "output_type": "execute_result"
    }
   ],
   "source": [
    "df.isnull().sum()"
   ]
  },
  {
   "cell_type": "code",
   "execution_count": 69,
   "id": "4d0edf24",
   "metadata": {},
   "outputs": [
    {
     "data": {
      "text/plain": [
       "apple          100\n",
       "pigeonpeas     100\n",
       "muskmelon      100\n",
       "coffee         100\n",
       "orange         100\n",
       "lentil         100\n",
       "jute           100\n",
       "grapes         100\n",
       "pomegranate    100\n",
       "mango          100\n",
       "papaya         100\n",
       "coconut        100\n",
       "cotton         100\n",
       "blackgram      100\n",
       "maize          100\n",
       "mothbeans      100\n",
       "banana         100\n",
       "mungbean       100\n",
       "watermelon     100\n",
       "kidneybeans    100\n",
       "chickpea       100\n",
       "rice           100\n",
       "Name: label, dtype: int64"
      ]
     },
     "execution_count": 69,
     "metadata": {},
     "output_type": "execute_result"
    }
   ],
   "source": [
    "df['label'].value_counts()"
   ]
  },
  {
   "cell_type": "code",
   "execution_count": 70,
   "id": "a2bd8dc9",
   "metadata": {},
   "outputs": [
    {
     "name": "stdout",
     "output_type": "stream",
     "text": [
      "Average ratio of nitrogen in the soil:50.551818\n",
      "Average ratio of phosphorous in the soil:53.362727\n",
      "Average ratio of potassium in the soil:48.149091\n",
      "Average ratio of Celsius :25.616244\n",
      "Average Relative humadity in %:71.481779\n",
      "Average PH value ofsoil:6.469480\n",
      "Average rainfall in monthe:103.463655\n"
     ]
    }
   ],
   "source": [
    "print(\"Average ratio of nitrogen in the soil:{0:2f}\".format(df['N'].mean()))\n",
    "print(\"Average ratio of phosphorous in the soil:{0:2f}\".format(df['P'].mean()))\n",
    "print(\"Average ratio of potassium in the soil:{0:2f}\".format(df['K'].mean()))\n",
    "print(\"Average ratio of Celsius :{0:2f}\".format(df['temperature'].mean()))\n",
    "print(\"Average Relative humadity in %:{0:2f}\".format(df['humidity'].mean()))\n",
    "print(\"Average PH value ofsoil:{0:2f}\".format(df['ph'].mean()))\n",
    "print(\"Average rainfall in monthe:{0:2f}\".format(df['rainfall'].mean()))\n",
    "\n",
    "\n",
    "\n"
   ]
  },
  {
   "cell_type": "code",
   "execution_count": 71,
   "id": "a05515f0",
   "metadata": {},
   "outputs": [
    {
     "name": "stdout",
     "output_type": "stream",
     "text": [
      "Requirement already satisfied: ipywidgets in c:\\users\\abhijeet\\appdata\\local\\programs\\python\\python39\\lib\\site-packages (7.6.3)\n",
      "Requirement already satisfied: ipython>=4.0.0 in c:\\users\\abhijeet\\appdata\\local\\programs\\python\\python39\\lib\\site-packages (from ipywidgets) (7.22.0)\n",
      "Requirement already satisfied: traitlets>=4.3.1 in c:\\users\\abhijeet\\appdata\\local\\programs\\python\\python39\\lib\\site-packages (from ipywidgets) (5.0.5)\n",
      "Requirement already satisfied: widgetsnbextension~=3.5.0 in c:\\users\\abhijeet\\appdata\\local\\programs\\python\\python39\\lib\\site-packages (from ipywidgets) (3.5.1)\n",
      "Requirement already satisfied: nbformat>=4.2.0 in c:\\users\\abhijeet\\appdata\\local\\programs\\python\\python39\\lib\\site-packages (from ipywidgets) (5.1.3)\n",
      "Requirement already satisfied: ipykernel>=4.5.1 in c:\\users\\abhijeet\\appdata\\local\\programs\\python\\python39\\lib\\site-packages (from ipywidgets) (5.5.3)\n",
      "Requirement already satisfied: jupyterlab-widgets>=1.0.0 in c:\\users\\abhijeet\\appdata\\local\\programs\\python\\python39\\lib\\site-packages (from ipywidgets) (1.0.0)\n",
      "Note: you may need to restart the kernel to use updated packages.Requirement already satisfied: tornado>=4.2 in c:\\users\\abhijeet\\appdata\\local\\programs\\python\\python39\\lib\\site-packages (from ipykernel>=4.5.1->ipywidgets) (6.1)\n",
      "Requirement already satisfied: jupyter-client in c:\\users\\abhijeet\\appdata\\local\\programs\\python\\python39\\lib\\site-packages (from ipykernel>=4.5.1->ipywidgets) (6.1.12)\n",
      "Requirement already satisfied: jedi>=0.16 in c:\\users\\abhijeet\\appdata\\local\\programs\\python\\python39\\lib\\site-packages (from ipython>=4.0.0->ipywidgets) (0.18.0)\n",
      "Requirement already satisfied: prompt-toolkit!=3.0.0,!=3.0.1,<3.1.0,>=2.0.0 in c:\\users\\abhijeet\\appdata\\local\\programs\\python\\python39\\lib\\site-packages (from ipython>=4.0.0->ipywidgets) (3.0.18)\n",
      "Requirement already satisfied: pickleshare in c:\\users\\abhijeet\\appdata\\local\\programs\\python\\python39\\lib\\site-packages (from ipython>=4.0.0->ipywidgets) (0.7.5)\n",
      "Requirement already satisfied: decorator in c:\\users\\abhijeet\\appdata\\local\\programs\\python\\python39\\lib\\site-packages (from ipython>=4.0.0->ipywidgets) (5.0.7)\n",
      "\n",
      "Requirement already satisfied: backcall in c:\\users\\abhijeet\\appdata\\local\\programs\\python\\python39\\lib\\site-packages (from ipython>=4.0.0->ipywidgets) (0.2.0)\n",
      "Requirement already satisfied: colorama in c:\\users\\abhijeet\\appdata\\local\\programs\\python\\python39\\lib\\site-packages (from ipython>=4.0.0->ipywidgets) (0.4.4)\n",
      "Requirement already satisfied: setuptools>=18.5 in c:\\users\\abhijeet\\appdata\\local\\programs\\python\\python39\\lib\\site-packages (from ipython>=4.0.0->ipywidgets) (56.0.0)\n",
      "Requirement already satisfied: pygments in c:\\users\\abhijeet\\appdata\\local\\programs\\python\\python39\\lib\\site-packages (from ipython>=4.0.0->ipywidgets) (2.8.1)\n",
      "Requirement already satisfied: parso<0.9.0,>=0.8.0 in c:\\users\\abhijeet\\appdata\\local\\programs\\python\\python39\\lib\\site-packages (from jedi>=0.16->ipython>=4.0.0->ipywidgets) (0.8.2)\n",
      "Requirement already satisfied: jsonschema!=2.5.0,>=2.4 in c:\\users\\abhijeet\\appdata\\local\\programs\\python\\python39\\lib\\site-packages (from nbformat>=4.2.0->ipywidgets) (3.2.0)\n",
      "Requirement already satisfied: jupyter-core in c:\\users\\abhijeet\\appdata\\local\\programs\\python\\python39\\lib\\site-packages (from nbformat>=4.2.0->ipywidgets) (4.7.1)\n",
      "Requirement already satisfied: ipython-genutils in c:\\users\\abhijeet\\appdata\\local\\programs\\python\\python39\\lib\\site-packages (from nbformat>=4.2.0->ipywidgets) (0.2.0)\n",
      "Requirement already satisfied: pyrsistent>=0.14.0 in c:\\users\\abhijeet\\appdata\\local\\programs\\python\\python39\\lib\\site-packages (from jsonschema!=2.5.0,>=2.4->nbformat>=4.2.0->ipywidgets) (0.17.3)\n",
      "Requirement already satisfied: attrs>=17.4.0 in c:\\users\\abhijeet\\appdata\\local\\programs\\python\\python39\\lib\\site-packages (from jsonschema!=2.5.0,>=2.4->nbformat>=4.2.0->ipywidgets) (20.3.0)\n",
      "Requirement already satisfied: six>=1.11.0 in c:\\users\\abhijeet\\appdata\\local\\programs\\python\\python39\\lib\\site-packages (from jsonschema!=2.5.0,>=2.4->nbformat>=4.2.0->ipywidgets) (1.15.0)\n",
      "Requirement already satisfied: wcwidth in c:\\users\\abhijeet\\appdata\\local\\programs\\python\\python39\\lib\\site-packages (from prompt-toolkit!=3.0.0,!=3.0.1,<3.1.0,>=2.0.0->ipython>=4.0.0->ipywidgets) (0.2.5)\n",
      "Requirement already satisfied: notebook>=4.4.1 in c:\\users\\abhijeet\\appdata\\local\\programs\\python\\python39\\lib\\site-packages (from widgetsnbextension~=3.5.0->ipywidgets) (6.3.0)\n"
     ]
    },
    {
     "name": "stderr",
     "output_type": "stream",
     "text": [
      "WARNING: You are using pip version 21.1.3; however, version 21.2.4 is available.\n",
      "You should consider upgrading via the 'c:\\users\\abhijeet\\appdata\\local\\programs\\python\\python39\\python.exe -m pip install --upgrade pip' command.\n"
     ]
    },
    {
     "name": "stdout",
     "output_type": "stream",
     "text": [
      "Requirement already satisfied: Send2Trash>=1.5.0 in c:\\users\\abhijeet\\appdata\\local\\programs\\python\\python39\\lib\\site-packages (from notebook>=4.4.1->widgetsnbextension~=3.5.0->ipywidgets) (1.5.0)\n",
      "Requirement already satisfied: terminado>=0.8.3 in c:\\users\\abhijeet\\appdata\\local\\programs\\python\\python39\\lib\\site-packages (from notebook>=4.4.1->widgetsnbextension~=3.5.0->ipywidgets) (0.9.4)\n",
      "Requirement already satisfied: nbconvert in c:\\users\\abhijeet\\appdata\\local\\programs\\python\\python39\\lib\\site-packages (from notebook>=4.4.1->widgetsnbextension~=3.5.0->ipywidgets) (6.0.7)\n",
      "Requirement already satisfied: jinja2 in c:\\users\\abhijeet\\appdata\\local\\programs\\python\\python39\\lib\\site-packages (from notebook>=4.4.1->widgetsnbextension~=3.5.0->ipywidgets) (2.11.3)\n",
      "Requirement already satisfied: argon2-cffi in c:\\users\\abhijeet\\appdata\\local\\programs\\python\\python39\\lib\\site-packages (from notebook>=4.4.1->widgetsnbextension~=3.5.0->ipywidgets) (20.1.0)\n",
      "Requirement already satisfied: pyzmq>=17 in c:\\users\\abhijeet\\appdata\\local\\programs\\python\\python39\\lib\\site-packages (from notebook>=4.4.1->widgetsnbextension~=3.5.0->ipywidgets) (22.0.3)\n",
      "Requirement already satisfied: prometheus-client in c:\\users\\abhijeet\\appdata\\local\\programs\\python\\python39\\lib\\site-packages (from notebook>=4.4.1->widgetsnbextension~=3.5.0->ipywidgets) (0.10.1)\n",
      "Requirement already satisfied: python-dateutil>=2.1 in c:\\users\\abhijeet\\appdata\\local\\programs\\python\\python39\\lib\\site-packages (from jupyter-client->ipykernel>=4.5.1->ipywidgets) (2.8.1)\n",
      "Requirement already satisfied: pywin32>=1.0 in c:\\users\\abhijeet\\appdata\\local\\programs\\python\\python39\\lib\\site-packages (from jupyter-core->nbformat>=4.2.0->ipywidgets) (300)\n",
      "Requirement already satisfied: pywinpty>=0.5 in c:\\users\\abhijeet\\appdata\\local\\programs\\python\\python39\\lib\\site-packages (from terminado>=0.8.3->notebook>=4.4.1->widgetsnbextension~=3.5.0->ipywidgets) (0.5.7)\n",
      "Requirement already satisfied: cffi>=1.0.0 in c:\\users\\abhijeet\\appdata\\local\\programs\\python\\python39\\lib\\site-packages (from argon2-cffi->notebook>=4.4.1->widgetsnbextension~=3.5.0->ipywidgets) (1.14.5)\n",
      "Requirement already satisfied: pycparser in c:\\users\\abhijeet\\appdata\\local\\programs\\python\\python39\\lib\\site-packages (from cffi>=1.0.0->argon2-cffi->notebook>=4.4.1->widgetsnbextension~=3.5.0->ipywidgets) (2.20)\n",
      "Requirement already satisfied: MarkupSafe>=0.23 in c:\\users\\abhijeet\\appdata\\local\\programs\\python\\python39\\lib\\site-packages (from jinja2->notebook>=4.4.1->widgetsnbextension~=3.5.0->ipywidgets) (1.1.1)\n",
      "Requirement already satisfied: bleach in c:\\users\\abhijeet\\appdata\\local\\programs\\python\\python39\\lib\\site-packages (from nbconvert->notebook>=4.4.1->widgetsnbextension~=3.5.0->ipywidgets) (3.3.0)\n",
      "Requirement already satisfied: pandocfilters>=1.4.1 in c:\\users\\abhijeet\\appdata\\local\\programs\\python\\python39\\lib\\site-packages (from nbconvert->notebook>=4.4.1->widgetsnbextension~=3.5.0->ipywidgets) (1.4.3)\n",
      "Requirement already satisfied: mistune<2,>=0.8.1 in c:\\users\\abhijeet\\appdata\\local\\programs\\python\\python39\\lib\\site-packages (from nbconvert->notebook>=4.4.1->widgetsnbextension~=3.5.0->ipywidgets) (0.8.4)\n",
      "Requirement already satisfied: nbclient<0.6.0,>=0.5.0 in c:\\users\\abhijeet\\appdata\\local\\programs\\python\\python39\\lib\\site-packages (from nbconvert->notebook>=4.4.1->widgetsnbextension~=3.5.0->ipywidgets) (0.5.3)\n",
      "Requirement already satisfied: entrypoints>=0.2.2 in c:\\users\\abhijeet\\appdata\\local\\programs\\python\\python39\\lib\\site-packages (from nbconvert->notebook>=4.4.1->widgetsnbextension~=3.5.0->ipywidgets) (0.3)\n",
      "Requirement already satisfied: testpath in c:\\users\\abhijeet\\appdata\\local\\programs\\python\\python39\\lib\\site-packages (from nbconvert->notebook>=4.4.1->widgetsnbextension~=3.5.0->ipywidgets) (0.4.4)\n",
      "Requirement already satisfied: jupyterlab-pygments in c:\\users\\abhijeet\\appdata\\local\\programs\\python\\python39\\lib\\site-packages (from nbconvert->notebook>=4.4.1->widgetsnbextension~=3.5.0->ipywidgets) (0.1.2)\n",
      "Requirement already satisfied: defusedxml in c:\\users\\abhijeet\\appdata\\local\\programs\\python\\python39\\lib\\site-packages (from nbconvert->notebook>=4.4.1->widgetsnbextension~=3.5.0->ipywidgets) (0.7.1)\n",
      "Requirement already satisfied: async-generator in c:\\users\\abhijeet\\appdata\\local\\programs\\python\\python39\\lib\\site-packages (from nbclient<0.6.0,>=0.5.0->nbconvert->notebook>=4.4.1->widgetsnbextension~=3.5.0->ipywidgets) (1.10)\n",
      "Requirement already satisfied: nest-asyncio in c:\\users\\abhijeet\\appdata\\local\\programs\\python\\python39\\lib\\site-packages (from nbclient<0.6.0,>=0.5.0->nbconvert->notebook>=4.4.1->widgetsnbextension~=3.5.0->ipywidgets) (1.5.1)\n",
      "Requirement already satisfied: packaging in c:\\users\\abhijeet\\appdata\\local\\programs\\python\\python39\\lib\\site-packages (from bleach->nbconvert->notebook>=4.4.1->widgetsnbextension~=3.5.0->ipywidgets) (20.9)\n",
      "Requirement already satisfied: webencodings in c:\\users\\abhijeet\\appdata\\local\\programs\\python\\python39\\lib\\site-packages (from bleach->nbconvert->notebook>=4.4.1->widgetsnbextension~=3.5.0->ipywidgets) (0.5.1)\n",
      "Requirement already satisfied: pyparsing>=2.0.2 in c:\\users\\abhijeet\\appdata\\local\\programs\\python\\python39\\lib\\site-packages (from packaging->bleach->nbconvert->notebook>=4.4.1->widgetsnbextension~=3.5.0->ipywidgets) (2.4.7)\n"
     ]
    }
   ],
   "source": [
    "pip install ipywidgets"
   ]
  },
  {
   "cell_type": "code",
   "execution_count": 72,
   "id": "070d4c59",
   "metadata": {},
   "outputs": [
    {
     "data": {
      "application/vnd.jupyter.widget-view+json": {
       "model_id": "bdf7387699034ad3a453237a286bc6a0",
       "version_major": 2,
       "version_minor": 0
      },
      "text/plain": [
       "interactive(children=(Dropdown(description='crops', options=('apple', 'pigeonpeas', 'muskmelon', 'coffee', 'or…"
      ]
     },
     "metadata": {},
     "output_type": "display_data"
    }
   ],
   "source": [
    "@interact\n",
    "\n",
    "def summary(crops=list(df['label'].value_counts().index)):\n",
    "    \n",
    "    x=df[df['label']==crops]\n",
    "    print(\"........................................Nitrogen\")\n",
    "    print(\"Statistics for Nitrogen\")\n",
    "    print(\"Mininmum Nitrogen required:\",x['N'].min())\n",
    "    print(\"Average Nitrogen required:\",x['N'].mean())\n",
    "    print(\"Maximum Nitrogen required:\",x['N'].max())\n",
    "    \n",
    "    print(\"................ phosphorous\") \n",
    "    print(\"Statistics for phosphorous\")\n",
    "    print(\"Mininmum phosphorous required:\",x['P'].min())\n",
    "    print(\"Average phosphorous required:\",x['P'].mean())\n",
    "    print(\"Maximum phosphorous required:\",x['P'].max()) \n",
    "          \n",
    "    print(\".............Potassium.....\")    \n",
    "    print(\"Statistics for Potassium\")\n",
    "    print(\"Mininmum Potassium required:\",x['K'].min())\n",
    "    print(\"Average Potassium required:\",x['K'].mean())\n",
    "    print(\"Maximum Potassium required:\",x['K'].max())\n",
    "    \n",
    "          \n",
    "    print(\".............Temperature.....\")    \n",
    "    print(\"Statistics for Temperature\")\n",
    "    print(\"Mininmum temperature required:\",x['temperature'].min())\n",
    "    print(\"Average temperature required:\",x['temperature'].mean())\n",
    "    print(\"Maximum temperature required:\",x['temperature'].max())  \n",
    "    \n",
    "   \n",
    "    \n",
    "    \n",
    "    \n",
    "    print(\"...........humadity..................\")  \n",
    "    print(\"Statistics for PH\")\n",
    "    print(\"Mininmum  humadity required:{0:.2f}\".format(x['humidity'].min()))\n",
    "    print(\"Average humadity required:{0:.2f}\".format(x['humidity'].mean()))\n",
    "    print(\"Maximum  humadity required:{0:.2f}\".format(x['humidity'].max()))  \n",
    "    \n",
    "      \n",
    "    print(\"...........PH..................\")  \n",
    "    print(\"Statistics for PH\")\n",
    "    print(\"Mininmum  PH required:{0:.2f}\".format(x['ph'].min()))\n",
    "    print(\"Average PH required:{0:.2f}\".format(x['ph'].mean()))\n",
    "    print(\"Maximum PH required:{0:.2f}\".format(x['ph'].max()))\n",
    "     \n",
    "\n",
    "    print(\"Statistics for rainfall...........\")\n",
    "    print(\"Mininmum  rainfall required:{0:.2f}\".format(x['rainfall'].min()))\n",
    "    print(\"Average rainfall required:{0:.2f}\".format(x['rainfall'].mean()))\n",
    "    print(\"Maximum  rainfall required:{0:.2f}\".format(x['rainfall'].max()))\n",
    "    \n",
    "        "
   ]
  },
  {
   "cell_type": "code",
   "execution_count": 73,
   "id": "d7cd27f7",
   "metadata": {},
   "outputs": [
    {
     "data": {
      "application/vnd.jupyter.widget-view+json": {
       "model_id": "f4ee8e7c554d42ffb89446845ccd9412",
       "version_major": 2,
       "version_minor": 0
      },
      "text/plain": [
       "interactive(children=(Dropdown(description='conditions', options=('N', 'p', 'k', 'temperature', 'ph', 'humidit…"
      ]
     },
     "metadata": {},
     "output_type": "display_data"
    }
   ],
   "source": [
    "@interact\n",
    "\n",
    "def compare(conditions=['N','p','k','temperature','ph','humidity','rainfall']):\n",
    "    print(\"Average value for\",conditions,\"is{0:2f}\".format(df[conditions].mean()))\n",
    "    print(\"........................\")\n",
    "    print(\"Rice:{0:.2f}\".format(df[(df['label']=='rice')][conditions].mean()))\n",
    "    print(\"Black Garm:{0:.2f}\".format(df[(df['label']=='rice')][conditions].mean()))\n",
    "    print(\"Banana:{0:.2f}\".format(df[(df['label']=='rice')][conditions].mean()))\n",
    "    print(\"Jute:{0:.2f}\".format(df[(df['label']=='rice')][conditions].mean()))\n",
    "    print(\"Coconut:{0:.2f}\".format(df[(df['label']=='rice')][conditions].mean()))\n",
    "    print(\"Apple:{0:.2f}\".format(df[(df['label']=='rice')][conditions].mean()))\n",
    "    print(\"Papaya:{0:.2f}\".format(df[(df['label']=='rice')][conditions].mean()))\n",
    "    print(\"Muskmelon:{0:.2f}\".format(df[(df['label']=='rice')][conditions].mean()))\n",
    "    print(\"Grapes:{0:.2f}\".format(df[(df['label']=='rice')][conditions].mean()))\n",
    "    print(\"Watermelon:{0:.2f}\".format(df[(df['label']=='rice')][conditions].mean()))\n",
    "    print(\"Kidney Bens:{0:.2f}\".format(df[(df['label']=='rice')][conditions].mean()))\n",
    "    print(\"Mung Bens:{0:.2f}\".format(df[(df['label']=='rice')][conditions].mean()))\n",
    "    print(\"Orange:{0:.2f}\".format(df[(df['label']=='rice')][conditions].mean()))\n",
    "    print(\"Chick Peas:{0:.2f}\".format(df[(df['label']=='rice')][conditions].mean()))\n",
    "    print(\"Lentils:{0:.2f}\".format(df[(df['label']=='rice')][conditions].mean()))\n",
    "    print(\"Cotton:{0:.2f}\".format(df[(df['label']=='rice')][conditions].mean()))\n",
    "    print(\"Mize:{0:.2f}\".format(df[(df['label']=='rice')][conditions].mean()))\n",
    "    print(\"Moth Beans:{0:.2f}\".format(df[(df['label']=='rice')][conditions].mean()))\n",
    "    print(\"pigeon Peas:{0:.2f}\".format(df[(df['label']=='rice')][conditions].mean()))\n",
    "    print(\"Mango:{0:.2f}\".format(df[(df['label']=='rice')][conditions].mean()))\n",
    "    print(\"Pomegranate:{0:.2f}\".format(df[(df['label']=='rice')][conditions].mean()))\n",
    "    print(\"Coffee:{0:.2f}\".format(df[(df['label']=='rice')][conditions].mean()))    \n"
   ]
  },
  {
   "cell_type": "code",
   "execution_count": 74,
   "id": "bcf12f42",
   "metadata": {},
   "outputs": [
    {
     "data": {
      "application/vnd.jupyter.widget-view+json": {
       "model_id": "91bd00b2a7ee41a99eacc9ded3f42ffe",
       "version_major": 2,
       "version_minor": 0
      },
      "text/plain": [
       "interactive(children=(Dropdown(description='conditions', options=('N', 'P', 'K', 'temperature', 'ph', 'humidit…"
      ]
     },
     "metadata": {},
     "output_type": "display_data"
    }
   ],
   "source": [
    "@interact\n",
    "\n",
    "def compare(conditions=['N','P','K','temperature','ph','humidity','rainfall']):\n",
    "    print(\"crops which require greater than average\",conditions,'\\n')\n",
    "    print(df[df[conditions]>df[conditions].mean()]['label'].unique()) \n",
    "    print(\"...........................................\")\n",
    "    print(\"crops which require less than average\",conditions,'\\n')\n",
    "    \n",
    "    print(df[df[conditions]<=df[conditions].mean()]['label'].unique())"
   ]
  },
  {
   "cell_type": "code",
   "execution_count": 75,
   "id": "ddc957c3",
   "metadata": {},
   "outputs": [
    {
     "name": "stderr",
     "output_type": "stream",
     "text": [
      "c:\\users\\abhijeet\\appdata\\local\\programs\\python\\python39\\lib\\site-packages\\seaborn\\distributions.py:2557: FutureWarning: `distplot` is a deprecated function and will be removed in a future version. Please adapt your code to use either `displot` (a figure-level function with similar flexibility) or `histplot` (an axes-level function for histograms).\n",
      "  warnings.warn(msg, FutureWarning)\n",
      "c:\\users\\abhijeet\\appdata\\local\\programs\\python\\python39\\lib\\site-packages\\seaborn\\distributions.py:2557: FutureWarning: `distplot` is a deprecated function and will be removed in a future version. Please adapt your code to use either `displot` (a figure-level function with similar flexibility) or `histplot` (an axes-level function for histograms).\n",
      "  warnings.warn(msg, FutureWarning)\n",
      "c:\\users\\abhijeet\\appdata\\local\\programs\\python\\python39\\lib\\site-packages\\seaborn\\distributions.py:2557: FutureWarning: `distplot` is a deprecated function and will be removed in a future version. Please adapt your code to use either `displot` (a figure-level function with similar flexibility) or `histplot` (an axes-level function for histograms).\n",
      "  warnings.warn(msg, FutureWarning)\n",
      "c:\\users\\abhijeet\\appdata\\local\\programs\\python\\python39\\lib\\site-packages\\seaborn\\distributions.py:2557: FutureWarning: `distplot` is a deprecated function and will be removed in a future version. Please adapt your code to use either `displot` (a figure-level function with similar flexibility) or `histplot` (an axes-level function for histograms).\n",
      "  warnings.warn(msg, FutureWarning)\n",
      "c:\\users\\abhijeet\\appdata\\local\\programs\\python\\python39\\lib\\site-packages\\seaborn\\distributions.py:2557: FutureWarning: `distplot` is a deprecated function and will be removed in a future version. Please adapt your code to use either `displot` (a figure-level function with similar flexibility) or `histplot` (an axes-level function for histograms).\n",
      "  warnings.warn(msg, FutureWarning)\n",
      "c:\\users\\abhijeet\\appdata\\local\\programs\\python\\python39\\lib\\site-packages\\seaborn\\distributions.py:2557: FutureWarning: `distplot` is a deprecated function and will be removed in a future version. Please adapt your code to use either `displot` (a figure-level function with similar flexibility) or `histplot` (an axes-level function for histograms).\n",
      "  warnings.warn(msg, FutureWarning)\n",
      "c:\\users\\abhijeet\\appdata\\local\\programs\\python\\python39\\lib\\site-packages\\seaborn\\distributions.py:2557: FutureWarning: `distplot` is a deprecated function and will be removed in a future version. Please adapt your code to use either `displot` (a figure-level function with similar flexibility) or `histplot` (an axes-level function for histograms).\n",
      "  warnings.warn(msg, FutureWarning)\n"
     ]
    },
    {
     "data": {
      "image/png": "[encoded data removed]",
      "text/plain": [
       "<Figure size 720x720 with 7 Axes>"
      ]
     },
     "metadata": {
      "needs_background": "light"
     },
     "output_type": "display_data"
    }
   ],
   "source": [
    "plt.subplot(2, 4, 1)\n",
    "sns.distplot(df['N'], color='black')\n",
    "plt.xlabel('Ratio of Nitrogen', fontsize=12)\n",
    "plt.grid()\n",
    "\n",
    "\n",
    "\n",
    "\n",
    "plt.subplot(2, 4, 2)\n",
    "sns.distplot(df['P'], color='darkblue')\n",
    "plt.xlabel('Ratio of Phosphorous', fontsize=12)\n",
    "plt.grid()\n",
    "\n",
    "\n",
    "\n",
    "\n",
    "plt.subplot(2, 4, 3)\n",
    "sns.distplot(df['K'], color='grey')\n",
    "plt.xlabel('Ratio of Potassium', fontsize=12)\n",
    "plt.grid()\n",
    "\n",
    "\n",
    "\n",
    "plt.subplot(2, 4, 4)\n",
    "sns.distplot(df['temperature'], color='grey')\n",
    "plt.xlabel('Temperature', fontsize=12)\n",
    "plt.grid()\n",
    "\n",
    "\n",
    "\n",
    "\n",
    "plt.subplot(2, 4, 5)\n",
    "sns.distplot(df['humidity'], color='lightgreen')\n",
    "plt.xlabel('Humadity', fontsize=12)\n",
    "plt.grid()\n",
    "\n",
    "\n",
    "\n",
    "\n",
    "plt.subplot(2, 4, 6)\n",
    "sns.distplot(df['ph'], color='darkgreen')\n",
    "plt.xlabel('PH', fontsize=12)\n",
    "plt.grid()\n",
    "\n",
    "\n",
    "\n",
    "\n",
    "plt.subplot(2, 4, 7)\n",
    "sns.distplot(df['rainfall'], color='black')\n",
    "plt.xlabel('Rainfall', fontsize=12)\n",
    "plt.grid()\n",
    "\n",
    "\n",
    "\n",
    "\n",
    "\n",
    "plt.suptitle('Distribution for Agricultural Conditions',fontsize=20)\n",
    "plt.show()"
   ]
  },
  {
   "cell_type": "code",
   "execution_count": 76,
   "id": "4844f46c",
   "metadata": {},
   "outputs": [
    {
     "name": "stdout",
     "output_type": "stream",
     "text": [
      "intersting Pattern\n",
      "....................\n",
      "Crops which require very High Ratio of Nitrogen Content in soil: ['cotton']\n",
      "Crops which require very High Ratio of phosphorous Content in soil: ['grapes' 'apple']\n",
      "Crops which require very High Ratio of potassium Content in soil: ['grapes' 'apple']\n",
      "Crops which require very High Ratio of Rainfall: ['rice' 'papaya' 'coconut']\n",
      "Crops which require very High temperature: ['grapes']\n",
      "Crops which require very low humidity : ['rice' 'maize' 'pigeonpeas' 'mothbeans' 'mungbean' 'blackgram' 'lentil'\n",
      " 'pomegranate' 'banana' 'mango' 'grapes' 'watermelon' 'muskmelon' 'apple'\n",
      " 'orange' 'papaya' 'coconut' 'cotton' 'jute' 'coffee']\n",
      "Crops which require very low ph: ['rice' 'maize' 'chickpea' 'kidneybeans' 'pigeonpeas' 'mothbeans'\n",
      " 'mungbean' 'blackgram' 'lentil' 'pomegranate' 'banana' 'mango' 'grapes'\n",
      " 'watermelon' 'muskmelon' 'apple' 'orange' 'papaya' 'coconut' 'cotton'\n",
      " 'jute' 'coffee']\n",
      "Crops which require very High ph: ['mothbeans']\n"
     ]
    }
   ],
   "source": [
    "print(\"intersting Pattern\")\n",
    "print(\"....................\")\n",
    "print(\"Crops which require very High Ratio of Nitrogen Content in soil:\",df[df['N']>120]['label'].unique())\n",
    "print(\"Crops which require very High Ratio of phosphorous Content in soil:\",df[df['P']>100]['label'].unique())\n",
    "print(\"Crops which require very High Ratio of potassium Content in soil:\",df[df['K']>200]['label'].unique())\n",
    "print(\"Crops which require very High Ratio of Rainfall:\",df[df['rainfall']>200]['label'].unique())\n",
    "print(\"Crops which require very High temperature:\",df[df['temperature']<10]['label'].unique())\n",
    "print(\"Crops which require very low humidity :\",df[df['humidity']>40]['label'].unique())\n",
    "print(\"Crops which require very low ph:\",df[df['ph']<20]['label'].unique())\n",
    "print(\"Crops which require very High ph:\",df[df['ph']< 4]['label'].unique())"
   ]
  },
  {
   "cell_type": "code",
   "execution_count": 77,
   "id": "a9664821",
   "metadata": {},
   "outputs": [
    {
     "name": "stdout",
     "output_type": "stream",
     "text": [
      "summer Crops\n",
      "['pigeonpeas' 'mothbeans' 'blackgram' 'mango' 'grapes' 'orange' 'papaya']\n",
      ".....................................................\n",
      "Winter Crops\n",
      "['maize' 'pigeonpeas' 'lentil' 'pomegranate' 'grapes' 'orange']\n",
      ".....................................................\n",
      "Rainy Crops\n",
      "['rice' 'papaya' 'coconut']\n"
     ]
    }
   ],
   "source": [
    "print(\"summer Crops\")\n",
    "print(df[(df['temperature']>30)&(df['humidity'] >50)]['label'].unique())\n",
    "\n",
    "print(\".....................................................\")\n",
    "\n",
    "print(\"Winter Crops\")\n",
    "print(df[(df['temperature']<20) &(df['humidity'] >30)]['label'].unique())\n",
    "print(\".....................................................\")\n",
    "print(\"Rainy Crops\")\n",
    "print(df[(df['rainfall']>200) &(df['humidity'] >30)]['label'].unique())\n"
   ]
  },
  {
   "cell_type": "code",
   "execution_count": 78,
   "id": "249da4c1",
   "metadata": {},
   "outputs": [
    {
     "name": "stdout",
     "output_type": "stream",
     "text": [
      "(2200, 7)\n"
     ]
    }
   ],
   "source": [
    "from sklearn.cluster import  KMeans\n",
    "\n",
    "x=df.drop(['label'],axis=1)\n",
    "\n",
    "x=x.values\n",
    "\n",
    "print(x.shape)"
   ]
  },
  {
   "cell_type": "code",
   "execution_count": 79,
   "id": "efacfe1a",
   "metadata": {},
   "outputs": [
    {
     "data": {
      "image/png": "[encoded data removed]",
      "text/plain": [
       "<Figure size 720x288 with 1 Axes>"
      ]
     },
     "metadata": {
      "needs_background": "light"
     },
     "output_type": "display_data"
    }
   ],
   "source": [
    "plt.rcParams[\"figure.figsize\"]=(10, 4)\n",
    "\n",
    "wcss=[]\n",
    "for i in range(1,11):\n",
    "    km=KMeans(n_clusters=i, init='k-means++',max_iter=300, n_init=10,random_state=0)\n",
    "    km.fit(x)\n",
    "    wcss.append(km.inertia_)\n",
    "    \n",
    "plt.plot(range(1,11),wcss)    \n",
    "plt.title(\"the elbow Method\",fontsize=20)\n",
    "plt.xlabel(\"no of cluster\")\n",
    "plt.ylabel('wcss')\n",
    "plt.show()"
   ]
  },
  {
   "cell_type": "code",
   "execution_count": 80,
   "id": "d18a088e",
   "metadata": {},
   "outputs": [
    {
     "name": "stdout",
     "output_type": "stream",
     "text": [
      "lets check the result after applying the k Means Clustring Analysis \n",
      "\n",
      "crops in  first cluster: ['maize' 'chickpea' 'kidneybeans' 'pigeonpeas' 'mothbeans' 'mungbean'\n",
      " 'blackgram' 'lentil' 'pomegranate' 'mango' 'orange' 'papaya' 'coconut']\n",
      "..................................................................\n",
      "crops in  second cluster: ['maize' 'banana' 'watermelon' 'muskmelon' 'papaya' 'cotton' 'coffee']\n",
      "..................................................................\n",
      "crops in  third cluster: ['grapes' 'apple']\n",
      "..................................................................\n",
      "crops in  fourth cluster: ['rice' 'pigeonpeas' 'papaya' 'coconut' 'jute' 'coffee']\n",
      "..................................................................\n"
     ]
    }
   ],
   "source": [
    "km=KMeans(n_clusters=4,init='k-means++',max_iter=300,n_init=10,random_state=0)\n",
    "y_means=km.fit_predict(x)\n",
    "\n",
    "a=df['label']\n",
    "y_means=pd.DataFrame(y_means)\n",
    "z=pd.concat([y_means,a],axis=1)\n",
    "z=z.rename(columns={0:'cluster'})\n",
    "\n",
    "\n",
    "\n",
    "\n",
    "print(\"lets check the result after applying the k Means Clustring Analysis \\n\")\n",
    "\n",
    "\n",
    "print(\"crops in  first cluster:\", z[z['cluster']==0]['label'].unique())\n",
    "print(\"..................................................................\")\n",
    "print(\"crops in  second cluster:\", z[z['cluster']==1]['label'].unique())\n",
    "print(\"..................................................................\")\n",
    "print(\"crops in  third cluster:\", z[z['cluster']==2]['label'].unique())\n",
    "print(\"..................................................................\")\n",
    "print(\"crops in  fourth cluster:\", z[z['cluster']==3]['label'].unique())\n",
    "print(\"..................................................................\")"
   ]
  },
  {
   "cell_type": "code",
   "execution_count": 81,
   "id": "90c26f59",
   "metadata": {},
   "outputs": [
    {
     "name": "stdout",
     "output_type": "stream",
     "text": [
      "Shape of x: (2200, 7)\n",
      "shape of y (2200,)\n"
     ]
    }
   ],
   "source": [
    "y=df['label']\n",
    "x=df.drop(['label'],axis=1)\n",
    "\n",
    "print(\"Shape of x:\",x.shape)\n",
    "print(\"shape of y\",y.shape)"
   ]
  },
  {
   "cell_type": "code",
   "execution_count": 82,
   "id": "cc1e26e3",
   "metadata": {},
   "outputs": [
    {
     "name": "stdout",
     "output_type": "stream",
     "text": [
      "The shape of x train (1760, 7)\n",
      "The shape of x train (440, 7)\n",
      "The shape of x train (1760,)\n",
      "The shape of x train (440,)\n"
     ]
    }
   ],
   "source": [
    "from sklearn.model_selection import train_test_split\n",
    "\n",
    "x_train, x_test, y_train, y_test =train_test_split(x,y,test_size=0.2,random_state=0)\n",
    "\n",
    "print(\"The shape of x train\",x_train.shape)\n",
    "print(\"The shape of x train\",x_test.shape)\n",
    "print(\"The shape of x train\",y_train.shape)\n",
    "print(\"The shape of x train\",y_test.shape)"
   ]
  },
  {
   "cell_type": "code",
   "execution_count": 83,
   "id": "1d3ebbb3",
   "metadata": {},
   "outputs": [
    {
     "name": "stderr",
     "output_type": "stream",
     "text": [
      "c:\\users\\abhijeet\\appdata\\local\\programs\\python\\python39\\lib\\site-packages\\sklearn\\linear_model\\_logistic.py:763: ConvergenceWarning: lbfgs failed to converge (status=1):\n",
      "STOP: TOTAL NO. of ITERATIONS REACHED LIMIT.\n",
      "\n",
      "Increase the number of iterations (max_iter) or scale the data as shown in:\n",
      "    https://scikit-learn.org/stable/modules/preprocessing.html\n",
      "Please also refer to the documentation for alternative solver options:\n",
      "    https://scikit-learn.org/stable/modules/linear_model.html#logistic-regression\n",
      "  n_iter_i = _check_optimize_result(\n"
     ]
    }
   ],
   "source": [
    "from sklearn.linear_model import LogisticRegression\n",
    "\n",
    "model=LogisticRegression()\n",
    "model.fit(x_train,y_train)\n",
    "y_pred=model.predict(x_test)"
   ]
  },
  {
   "cell_type": "code",
   "execution_count": 84,
   "id": "9b5b892d",
   "metadata": {},
   "outputs": [
    {
     "data": {
      "image/png": "[encoded data removed]",
      "text/plain": [
       "<Figure size 720x720 with 2 Axes>"
      ]
     },
     "metadata": {
      "needs_background": "light"
     },
     "output_type": "display_data"
    }
   ],
   "source": [
    "from sklearn.metrics import confusion_matrix\n",
    "plt.rcParams[\"figure.figsize\"]=(10,10)\n",
    "cm=confusion_matrix(y_test,y_pred)\n",
    "sns.heatmap(cm,annot=True,cmap='Wistia')\n",
    "plt.title(\"Confusion Matrix for Logistic Regression\",fontsize=20)\n",
    "plt.show()"
   ]
  },
  {
   "cell_type": "code",
   "execution_count": 86,
   "id": "18fae038",
   "metadata": {},
   "outputs": [
    {
     "ename": "NameError",
     "evalue": "name 'classification_report' is not defined",
     "output_type": "error",
     "traceback": [
      "\u001b[1;31m---------------------------------------------------------------------------\u001b[0m",
      "\u001b[1;31mNameError\u001b[0m                                 Traceback (most recent call last)",
      "\u001b[1;32m<ipython-input-86-703ca41af0f6>\u001b[0m in \u001b[0;36m<module>\u001b[1;34m\u001b[0m\n\u001b[1;32m----> 1\u001b[1;33m \u001b[0mcr\u001b[0m\u001b[1;33m=\u001b[0m \u001b[0mclassification_report\u001b[0m\u001b[1;33m(\u001b[0m\u001b[0my_test\u001b[0m\u001b[1;33m,\u001b[0m\u001b[0my_pred\u001b[0m\u001b[1;33m)\u001b[0m\u001b[1;33m\u001b[0m\u001b[1;33m\u001b[0m\u001b[0m\n\u001b[0m\u001b[0;32m      2\u001b[0m \u001b[0mprint\u001b[0m\u001b[1;33m(\u001b[0m\u001b[0mcr\u001b[0m\u001b[1;33m)\u001b[0m\u001b[1;33m\u001b[0m\u001b[1;33m\u001b[0m\u001b[0m\n",
      "\u001b[1;31mNameError\u001b[0m: name 'classification_report' is not defined"
     ]
    }
   ],
   "source": [
    "cr= classification_report(y_test,y_pred)\n",
    "print(cr)"
   ]
  },
  {
   "cell_type": "code",
   "execution_count": 87,
   "id": "98a154d5",
   "metadata": {},
   "outputs": [
    {
     "data": {
      "text/html": [
       "<div>\n",
       "<style scoped>\n",
       "    .dataframe tbody tr th:only-of-type {\n",
       "        vertical-align: middle;\n",
       "    }\n",
       "\n",
       "    .dataframe tbody tr th {\n",
       "        vertical-align: top;\n",
       "    }\n",
       "\n",
       "    .dataframe thead th {\n",
       "        text-align: right;\n",
       "    }\n",
       "</style>\n",
       "<table border=\"1\" class=\"dataframe\">\n",
       "  <thead>\n",
       "    <tr style=\"text-align: right;\">\n",
       "      <th></th>\n",
       "      <th>N</th>\n",
       "      <th>P</th>\n",
       "      <th>K</th>\n",
       "      <th>temperature</th>\n",
       "      <th>humidity</th>\n",
       "      <th>ph</th>\n",
       "      <th>rainfall</th>\n",
       "      <th>label</th>\n",
       "    </tr>\n",
       "  </thead>\n",
       "  <tbody>\n",
       "    <tr>\n",
       "      <th>0</th>\n",
       "      <td>90</td>\n",
       "      <td>42</td>\n",
       "      <td>43</td>\n",
       "      <td>20.879744</td>\n",
       "      <td>82.002744</td>\n",
       "      <td>6.502985</td>\n",
       "      <td>202.935536</td>\n",
       "      <td>rice</td>\n",
       "    </tr>\n",
       "    <tr>\n",
       "      <th>1</th>\n",
       "      <td>85</td>\n",
       "      <td>58</td>\n",
       "      <td>41</td>\n",
       "      <td>21.770462</td>\n",
       "      <td>80.319644</td>\n",
       "      <td>7.038096</td>\n",
       "      <td>226.655537</td>\n",
       "      <td>rice</td>\n",
       "    </tr>\n",
       "    <tr>\n",
       "      <th>2</th>\n",
       "      <td>60</td>\n",
       "      <td>55</td>\n",
       "      <td>44</td>\n",
       "      <td>23.004459</td>\n",
       "      <td>82.320763</td>\n",
       "      <td>7.840207</td>\n",
       "      <td>263.964248</td>\n",
       "      <td>rice</td>\n",
       "    </tr>\n",
       "    <tr>\n",
       "      <th>3</th>\n",
       "      <td>74</td>\n",
       "      <td>35</td>\n",
       "      <td>40</td>\n",
       "      <td>26.491096</td>\n",
       "      <td>80.158363</td>\n",
       "      <td>6.980401</td>\n",
       "      <td>242.864034</td>\n",
       "      <td>rice</td>\n",
       "    </tr>\n",
       "    <tr>\n",
       "      <th>4</th>\n",
       "      <td>78</td>\n",
       "      <td>42</td>\n",
       "      <td>42</td>\n",
       "      <td>20.130175</td>\n",
       "      <td>81.604873</td>\n",
       "      <td>7.628473</td>\n",
       "      <td>262.717340</td>\n",
       "      <td>rice</td>\n",
       "    </tr>\n",
       "  </tbody>\n",
       "</table>\n",
       "</div>"
      ],
      "text/plain": [
       "    N   P   K  temperature   humidity        ph    rainfall label\n",
       "0  90  42  43    20.879744  82.002744  6.502985  202.935536  rice\n",
       "1  85  58  41    21.770462  80.319644  7.038096  226.655537  rice\n",
       "2  60  55  44    23.004459  82.320763  7.840207  263.964248  rice\n",
       "3  74  35  40    26.491096  80.158363  6.980401  242.864034  rice\n",
       "4  78  42  42    20.130175  81.604873  7.628473  262.717340  rice"
      ]
     },
     "execution_count": 87,
     "metadata": {},
     "output_type": "execute_result"
    }
   ],
   "source": [
    "df.head()"
   ]
  },
  {
   "cell_type": "code",
   "execution_count": 88,
   "id": "08e4d182",
   "metadata": {},
   "outputs": [
    {
     "ename": "ValueError",
     "evalue": "X has 6 features per sample; expecting 7",
     "output_type": "error",
     "traceback": [
      "\u001b[1;31m---------------------------------------------------------------------------\u001b[0m",
      "\u001b[1;31mValueError\u001b[0m                                Traceback (most recent call last)",
      "\u001b[1;32m<ipython-input-88-a184d211eb2d>\u001b[0m in \u001b[0;36m<module>\u001b[1;34m\u001b[0m\n\u001b[1;32m----> 1\u001b[1;33m prediction=model.predict((np.array([[90,\n\u001b[0m\u001b[0;32m      2\u001b[0m                                      \u001b[1;36m40\u001b[0m\u001b[1;33m,\u001b[0m\u001b[1;33m\u001b[0m\u001b[1;33m\u001b[0m\u001b[0m\n\u001b[0;32m      3\u001b[0m                                      \u001b[1;36m20\u001b[0m\u001b[1;33m,\u001b[0m\u001b[1;33m\u001b[0m\u001b[1;33m\u001b[0m\u001b[0m\n\u001b[0;32m      4\u001b[0m                                      \u001b[1;36m80\u001b[0m\u001b[1;33m,\u001b[0m\u001b[1;33m\u001b[0m\u001b[1;33m\u001b[0m\u001b[0m\n\u001b[0;32m      5\u001b[0m                                      \u001b[1;36m7\u001b[0m\u001b[1;33m,\u001b[0m\u001b[1;33m\u001b[0m\u001b[1;33m\u001b[0m\u001b[0m\n",
      "\u001b[1;32mc:\\users\\abhijeet\\appdata\\local\\programs\\python\\python39\\lib\\site-packages\\sklearn\\linear_model\\_base.py\u001b[0m in \u001b[0;36mpredict\u001b[1;34m(self, X)\u001b[0m\n\u001b[0;32m    307\u001b[0m             \u001b[0mPredicted\u001b[0m \u001b[1;32mclass\u001b[0m \u001b[0mlabel\u001b[0m \u001b[0mper\u001b[0m \u001b[0msample\u001b[0m\u001b[1;33m.\u001b[0m\u001b[1;33m\u001b[0m\u001b[1;33m\u001b[0m\u001b[0m\n\u001b[0;32m    308\u001b[0m         \"\"\"\n\u001b[1;32m--> 309\u001b[1;33m         \u001b[0mscores\u001b[0m \u001b[1;33m=\u001b[0m \u001b[0mself\u001b[0m\u001b[1;33m.\u001b[0m\u001b[0mdecision_function\u001b[0m\u001b[1;33m(\u001b[0m\u001b[0mX\u001b[0m\u001b[1;33m)\u001b[0m\u001b[1;33m\u001b[0m\u001b[1;33m\u001b[0m\u001b[0m\n\u001b[0m\u001b[0;32m    310\u001b[0m         \u001b[1;32mif\u001b[0m \u001b[0mlen\u001b[0m\u001b[1;33m(\u001b[0m\u001b[0mscores\u001b[0m\u001b[1;33m.\u001b[0m\u001b[0mshape\u001b[0m\u001b[1;33m)\u001b[0m \u001b[1;33m==\u001b[0m \u001b[1;36m1\u001b[0m\u001b[1;33m:\u001b[0m\u001b[1;33m\u001b[0m\u001b[1;33m\u001b[0m\u001b[0m\n\u001b[0;32m    311\u001b[0m             \u001b[0mindices\u001b[0m \u001b[1;33m=\u001b[0m \u001b[1;33m(\u001b[0m\u001b[0mscores\u001b[0m \u001b[1;33m>\u001b[0m \u001b[1;36m0\u001b[0m\u001b[1;33m)\u001b[0m\u001b[1;33m.\u001b[0m\u001b[0mastype\u001b[0m\u001b[1;33m(\u001b[0m\u001b[0mint\u001b[0m\u001b[1;33m)\u001b[0m\u001b[1;33m\u001b[0m\u001b[1;33m\u001b[0m\u001b[0m\n",
      "\u001b[1;32mc:\\users\\abhijeet\\appdata\\local\\programs\\python\\python39\\lib\\site-packages\\sklearn\\linear_model\\_base.py\u001b[0m in \u001b[0;36mdecision_function\u001b[1;34m(self, X)\u001b[0m\n\u001b[0;32m    286\u001b[0m         \u001b[0mn_features\u001b[0m \u001b[1;33m=\u001b[0m \u001b[0mself\u001b[0m\u001b[1;33m.\u001b[0m\u001b[0mcoef_\u001b[0m\u001b[1;33m.\u001b[0m\u001b[0mshape\u001b[0m\u001b[1;33m[\u001b[0m\u001b[1;36m1\u001b[0m\u001b[1;33m]\u001b[0m\u001b[1;33m\u001b[0m\u001b[1;33m\u001b[0m\u001b[0m\n\u001b[0;32m    287\u001b[0m         \u001b[1;32mif\u001b[0m \u001b[0mX\u001b[0m\u001b[1;33m.\u001b[0m\u001b[0mshape\u001b[0m\u001b[1;33m[\u001b[0m\u001b[1;36m1\u001b[0m\u001b[1;33m]\u001b[0m \u001b[1;33m!=\u001b[0m \u001b[0mn_features\u001b[0m\u001b[1;33m:\u001b[0m\u001b[1;33m\u001b[0m\u001b[1;33m\u001b[0m\u001b[0m\n\u001b[1;32m--> 288\u001b[1;33m             raise ValueError(\"X has %d features per sample; expecting %d\"\n\u001b[0m\u001b[0;32m    289\u001b[0m                              % (X.shape[1], n_features))\n\u001b[0;32m    290\u001b[0m \u001b[1;33m\u001b[0m\u001b[0m\n",
      "\u001b[1;31mValueError\u001b[0m: X has 6 features per sample; expecting 7"
     ]
    }
   ],
   "source": [
    "prediction=model.predict((np.array([[90,\n",
    "                                     40,\n",
    "                                     20,\n",
    "                                     80,\n",
    "                                     7,\n",
    "                                     200]])))\n",
    "print(\"The suggestion crop for given climatic condition is :\",prediction)"
   ]
  },
  {
   "cell_type": "code",
   "execution_count": null,
   "id": "9fda90c9",
   "metadata": {},
   "outputs": [],
   "source": []
  }
 ],
 "metadata": {
  "kernelspec": {
   "display_name": "Python 3",
   "language": "python",
   "name": "python3"
  },
  "language_info": {
   "codemirror_mode": {
    "name": "ipython",
    "version": 3
   },
   "file_extension": ".py",
   "mimetype": "text/x-python",
   "name": "python",
   "nbconvert_exporter": "python",
   "pygments_lexer": "ipython3",
   "version": "3.9.4"
  }
 },
 "nbformat": 4,
 "nbformat_minor": 5
}
